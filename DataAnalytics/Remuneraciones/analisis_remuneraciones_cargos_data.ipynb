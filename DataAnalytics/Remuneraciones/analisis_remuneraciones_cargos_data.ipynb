{
 "cells": [
  {
   "cell_type": "markdown",
   "id": "9e84b397",
   "metadata": {},
   "source": [
    "# Intento 3: Estudio, limpieza y análisis descriptivo\n",
    "\n",
    "Data set: 'ds_salaries.csv'\n",
    "\n",
    "Nombre: Bruno Caro\n",
    "\n",
    "Fecha: 23-06-2025\n"
   ]
  },
  {
   "cell_type": "code",
   "execution_count": 474,
   "id": "00ddf3c4",
   "metadata": {},
   "outputs": [],
   "source": [
    "# Librerías y conexión a los datos\n",
    "\n",
    "import pandas as pd\n",
    "import numpy as np\n",
    "import matplotlib.pyplot as plt"
   ]
  },
  {
   "cell_type": "code",
   "execution_count": 475,
   "id": "66ec39e7",
   "metadata": {},
   "outputs": [],
   "source": [
    "# Conexión a los datos\n",
    "path = 'ds_salaries.csv'\n",
    "df = pd.read_csv(path)\n",
    "\n"
   ]
  },
  {
   "cell_type": "markdown",
   "id": "389a63be",
   "metadata": {},
   "source": [
    "## EDA"
   ]
  },
  {
   "cell_type": "code",
   "execution_count": 476,
   "id": "ebf6dfc2",
   "metadata": {},
   "outputs": [
    {
     "name": "stdout",
     "output_type": "stream",
     "text": [
      "<class 'pandas.core.frame.DataFrame'>\n",
      "RangeIndex: 3755 entries, 0 to 3754\n",
      "Data columns (total 11 columns):\n",
      " #   Column              Non-Null Count  Dtype \n",
      "---  ------              --------------  ----- \n",
      " 0   work_year           3755 non-null   int64 \n",
      " 1   experience_level    3755 non-null   object\n",
      " 2   employment_type     3755 non-null   object\n",
      " 3   job_title           3755 non-null   object\n",
      " 4   salary              3755 non-null   int64 \n",
      " 5   salary_currency     3755 non-null   object\n",
      " 6   salary_in_usd       3755 non-null   int64 \n",
      " 7   employee_residence  3755 non-null   object\n",
      " 8   remote_ratio        3755 non-null   int64 \n",
      " 9   company_location    3755 non-null   object\n",
      " 10  company_size        3755 non-null   object\n",
      "dtypes: int64(4), object(7)\n",
      "memory usage: 322.8+ KB\n"
     ]
    }
   ],
   "source": [
    "df.describe()\n",
    "df.head()\n",
    "df.tail()\n",
    "df.info()\n"
   ]
  },
  {
   "cell_type": "code",
   "execution_count": 477,
   "id": "009f550f",
   "metadata": {},
   "outputs": [
    {
     "name": "stdout",
     "output_type": "stream",
     "text": [
      "WORK_YEAR\n",
      "[2023 2022 2020 2021]\n",
      "----------------------------\n",
      "\n",
      "EXPERIENCE_LEVEL\n",
      "['SE' 'MI' 'EN' 'EX']\n",
      "----------------------------\n",
      "\n",
      "EMPLOYMENT_TYPE\n",
      "['FT' 'CT' 'FL' 'PT']\n",
      "----------------------------\n",
      "\n",
      "JOB_TITLE\n",
      "['Principal Data Scientist' 'ML Engineer' 'Data Scientist'\n",
      " 'Applied Scientist' 'Data Analyst' 'Data Modeler' 'Research Engineer'\n",
      " 'Analytics Engineer' 'Business Intelligence Engineer'\n",
      " 'Machine Learning Engineer' 'Data Strategist' 'Data Engineer'\n",
      " 'Computer Vision Engineer' 'Data Quality Analyst'\n",
      " 'Compliance Data Analyst' 'Data Architect'\n",
      " 'Applied Machine Learning Engineer' 'AI Developer' 'Research Scientist'\n",
      " 'Data Analytics Manager' 'Business Data Analyst' 'Applied Data Scientist'\n",
      " 'Staff Data Analyst' 'ETL Engineer' 'Data DevOps Engineer' 'Head of Data'\n",
      " 'Data Science Manager' 'Data Manager' 'Machine Learning Researcher'\n",
      " 'Big Data Engineer' 'Data Specialist' 'Lead Data Analyst'\n",
      " 'BI Data Engineer' 'Director of Data Science'\n",
      " 'Machine Learning Scientist' 'MLOps Engineer' 'AI Scientist'\n",
      " 'Autonomous Vehicle Technician' 'Applied Machine Learning Scientist'\n",
      " 'Lead Data Scientist' 'Cloud Database Engineer' 'Financial Data Analyst'\n",
      " 'Data Infrastructure Engineer' 'Software Data Engineer' 'AI Programmer'\n",
      " 'Data Operations Engineer' 'BI Developer' 'Data Science Lead'\n",
      " 'Deep Learning Researcher' 'BI Analyst' 'Data Science Consultant'\n",
      " 'Data Analytics Specialist' 'Machine Learning Infrastructure Engineer'\n",
      " 'BI Data Analyst' 'Head of Data Science' 'Insight Analyst'\n",
      " 'Deep Learning Engineer' 'Machine Learning Software Engineer'\n",
      " 'Big Data Architect' 'Product Data Analyst'\n",
      " 'Computer Vision Software Engineer' 'Azure Data Engineer'\n",
      " 'Marketing Data Engineer' 'Data Analytics Lead' 'Data Lead'\n",
      " 'Data Science Engineer' 'Machine Learning Research Engineer'\n",
      " 'NLP Engineer' 'Manager Data Management' 'Machine Learning Developer'\n",
      " '3D Computer Vision Researcher' 'Principal Machine Learning Engineer'\n",
      " 'Data Analytics Engineer' 'Data Analytics Consultant'\n",
      " 'Data Management Specialist' 'Data Science Tech Lead'\n",
      " 'Data Scientist Lead' 'Cloud Data Engineer' 'Data Operations Analyst'\n",
      " 'Marketing Data Analyst' 'Power BI Developer' 'Product Data Scientist'\n",
      " 'Principal Data Architect' 'Machine Learning Manager'\n",
      " 'Lead Machine Learning Engineer' 'ETL Developer' 'Cloud Data Architect'\n",
      " 'Lead Data Engineer' 'Head of Machine Learning' 'Principal Data Analyst'\n",
      " 'Principal Data Engineer' 'Staff Data Scientist' 'Finance Data Analyst']\n",
      "----------------------------\n",
      "\n",
      "SALARY\n",
      "[   80000    30000    25500   175000   120000   222200   136000   219000\n",
      "   141000   147100    90700   130000   100000   213660   130760   170000\n",
      "   150000   110000   275000   174000   230000   143200   225000   156400\n",
      "   200000    90000    72000   253200   342810   184590   162500   105380\n",
      "    64500  1650000   204620   110680   270703   221484   212750   185000\n",
      "   262000   245000   275300   183500   218500   199098   203300   123600\n",
      "   189110   139000   258750   231500   166000   172500   110500   238000\n",
      "   176000   237000   201450   309400   159100   115000    81500   280000\n",
      "   210000   280100   168100   193500   510000    65000   300000   185900\n",
      "   129300   140000    45000    36000   105000    70000   163196   145885\n",
      "   217000   202800   104300   145000   165000   132300   179170    94300\n",
      "   152500   116450   247300   133800   203000   133000   220000    54000\n",
      "   289800   214000   179820   143860   283200   188800   214200   252000\n",
      "   129000   155000   161800   141600   342300   176100    85000   138784\n",
      "    83270    75000   204500   138900   318300   212200    95000   195000\n",
      "   160000  1700000    38000    35000   168400   105200   190000   241000\n",
      "    55000    15000    47500   250000   228000   186000   180000    50000\n",
      "   205000   215000   247500   172200   224000  1400000   128000   329500\n",
      "   269600   203500   152000   239000   122900   191765   134236   112000\n",
      "    84000   135000   105500   293000   148500   240500   123700   152900\n",
      "   117100   173000   113000   260000   184000   149500   127075   219535\n",
      "   146115   199000   162000   221000   153000   187000   179000   109000\n",
      "   142000   198800   125000    86000   106000   280700   150450   250500\n",
      "   159500   130001    71907    93918    51962   257000   147000   222000\n",
      "   133200   156000   304000   161200    84570   240000   183600   289076\n",
      "   202353   157750   104650    68000    60000   181000   154000   146000\n",
      "    64200    56100   208450   170550   171250   113750   153600   100500\n",
      "   182500   121500   203100   114500    92700    61800   258000   167500\n",
      "   106500    57000   286000   207000   223250   178600   353200   249300\n",
      "   297300   198200   151800   317070   170730    20000   108000   134000\n",
      "   124000   124500   148700   125600   120250   183000  1500000   216000\n",
      "   143865   115092   132000   208049   128500   149600   102000   106800\n",
      "   151000     7000    40000   143000    42000   111000   265000   235000\n",
      "    60400   164000    56000    83500    52500   201036   134024    62000\n",
      "    58000   172000   163800   126000   139500   109400   205600   105700\n",
      "   239748   159832   186300   102500   149040   113900   172600   107900\n",
      "   180180   106020   376080   213120   206500   121600   194500   115500\n",
      "   115934    81666   206000   138000    92000    48000    87000   299500\n",
      "   245100   115100    73900   141288    94192   210914   116704   185700\n",
      "   169000   110600   193000   136850   276000   178500   161000    83300\n",
      "   112700   128750   106250   188500   117000   104500   127000    94000\n",
      "   210550   153300   161500   119500   148750   146300   153400   122700\n",
      "   123900   340000   121700   310000   149076    82365    85500    97750\n",
      "   201000   122000   116990    82920   142200   205920   171600    78000\n",
      "   116000    36050    34320    93800    67000  1300000  1000000   104000\n",
      "   152380   121904   128280   106900   192000   170500    60027    44737\n",
      "   131899   104891   124740    65488    72200    64980   179975    86466\n",
      "   168000   167580    87980   202000   148000   269000   158000   197000\n",
      "   290000   172800   300240   200160   370000   137500   323300   184700\n",
      "   153088   183310   144000    66000   126277   126500   272000   259000\n",
      "   101400   288000   215050   198000   114000   209300   182200   227000\n",
      "    52000   226700   133300   124999   800000    63000   253750   169200\n",
      "   213580   163625    12000   375000  1350000   231250   138750   284310\n",
      "   153090   225900   385000    93919   241871   133832   192500   216100\n",
      "   140800   284000   236000   248100   145900   155850   102544   151410\n",
      "   115360  1050000    25000   107000    23000   182750   314100   195800\n",
      "   350000   262500   209450   158677   103200    61200    59000   174500\n",
      "   107250   119000   285800   154600  5000000   124234    74540    79000\n",
      "   141290    74178   107500  1060000     6000  1440000   840000  1250000\n",
      "   182000   234100   223800   172100   232200   167200   291500   196200\n",
      "   150900   167000    96100   196000   126100   187500    24000   165750\n",
      "    89700    55250   175308   100706   229000  4000000   272550    64000\n",
      "   143100   180560   115440  1125000   261500   134500  1100000    94500\n",
      "   127500    51000   248400  4460000   149000   246000    10000  2500000\n",
      "  2800000   249500   149850   122500   102640    66100   122600   159000\n",
      "   255000   166700   194000   129400    89200   178750   197430   134760\n",
      "    99000   105120    75360   171000    13000   213000   227200    61000\n",
      "   243000   178000    96000   137000   189750   140250   191200   179500\n",
      "    26000   118000   177000   131000   193750   116250   208000    45555\n",
      "  6600000   140700    33000   154560   123648   177500   192564   144854\n",
      "   179305   142127   315000   243900   156600    77300    45600   184100\n",
      "   198440    47000   187200   116100   159699   138938    76000   125404\n",
      "   123000    92250    97000   157000   345600   230400   175950   130050\n",
      "   236600    27000   400000     8000   123400    88100   139600    85700\n",
      "    98200    98000   144200  3000000   188700   160395   191475   141525\n",
      "   156868   178800   132100   229998   154545    99750    68400   236900\n",
      "   159200   243225   179775   218000   145300   195400   131300   195700\n",
      "   130500   141300   102100    83000  1800000   633000   179400   193900\n",
      "   222640   182160   297500    93000    73000    40300   136994   101570\n",
      "    97500   212800   142800   500000   130240    83376    65004    84958\n",
      "    66822    81000    46000   204100   136100     7500    77000    28500\n",
      "   119300   146200   124270   185800   137400   148800  7500000    82000\n",
      "    32400   216200   144100   175100   189650   164996    99450   188100\n",
      "   139860   248700   167100   450000   189500   140100   177600   202900\n",
      "   900000  4200000   260500    73400    49500  2400000   206699    99100\n",
      "   221300    74000   249260   185400   128875    93700   136260   109280\n",
      "   150075   110925    22800   112900    90320    62500   105400    43200\n",
      "   215300   158200   209100   165400   132320   208775   147800  6000000\n",
      "   100800   140400    82900    63900   112300   108800   242000   165220\n",
      "   120160   124190   181940   220110   160080   106260   120600    84900\n",
      "   136620    99360   161342   137141   211500   138600   192400    61300\n",
      "    95550   136600   167875   205300   200100    70500   116150    99050\n",
      "   192600   266400   150260    69000   324000   185100   104890    53000\n",
      "    88000    66500   121000    29000    69999    52800   405000   380000\n",
      "  8500000  7000000    38400    82500   700000     8760    51999    41000\n",
      "    13400   103000   270000    45760    44000  2250000    37456 11000000\n",
      "    14000  2200000   188000  2100000    51400    61500   720000    31000\n",
      "    91000  1600000   256000    72500    65720   111775    93150    21600\n",
      "  4900000  1200000    21000  1799997     9272   120500    21844    22000\n",
      "    76760  1672000   420000 30400000    32000   416000    40900  4450000\n",
      "   423000   325000    34000    69600   435000    37000    19000    18000\n",
      "    39600  1335000  1450000   190200   138350   130800   412000]\n",
      "----------------------------\n",
      "\n",
      "SALARY_CURRENCY\n",
      "['EUR' 'USD' 'INR' 'HKD' 'CHF' 'GBP' 'AUD' 'SGD' 'CAD' 'ILS' 'BRL' 'THB'\n",
      " 'PLN' 'HUF' 'CZK' 'DKK' 'JPY' 'MXN' 'TRY' 'CLP']\n",
      "----------------------------\n",
      "\n",
      "SALARY_IN_USD\n",
      "[ 85847  30000  25500 ...  28369 412000  94665]\n",
      "----------------------------\n",
      "\n",
      "EMPLOYEE_RESIDENCE\n",
      "['ES' 'US' 'CA' 'DE' 'GB' 'NG' 'IN' 'HK' 'PT' 'NL' 'CH' 'CF' 'FR' 'AU'\n",
      " 'FI' 'UA' 'IE' 'IL' 'GH' 'AT' 'CO' 'SG' 'SE' 'SI' 'MX' 'UZ' 'BR' 'TH'\n",
      " 'HR' 'PL' 'KW' 'VN' 'CY' 'AR' 'AM' 'BA' 'KE' 'GR' 'MK' 'LV' 'RO' 'PK'\n",
      " 'IT' 'MA' 'LT' 'BE' 'AS' 'IR' 'HU' 'SK' 'CN' 'CZ' 'CR' 'TR' 'CL' 'PR'\n",
      " 'DK' 'BO' 'PH' 'DO' 'EG' 'ID' 'AE' 'MY' 'JP' 'EE' 'HN' 'TN' 'RU' 'DZ'\n",
      " 'IQ' 'BG' 'JE' 'RS' 'NZ' 'MD' 'LU' 'MT']\n",
      "----------------------------\n",
      "\n",
      "REMOTE_RATIO\n",
      "[100   0  50]\n",
      "----------------------------\n",
      "\n",
      "COMPANY_LOCATION\n",
      "['ES' 'US' 'CA' 'DE' 'GB' 'NG' 'IN' 'HK' 'NL' 'CH' 'CF' 'FR' 'FI' 'UA'\n",
      " 'IE' 'IL' 'GH' 'CO' 'SG' 'AU' 'SE' 'SI' 'MX' 'BR' 'PT' 'RU' 'TH' 'HR'\n",
      " 'VN' 'EE' 'AM' 'BA' 'KE' 'GR' 'MK' 'LV' 'RO' 'PK' 'IT' 'MA' 'PL' 'AL'\n",
      " 'AR' 'LT' 'AS' 'CR' 'IR' 'BS' 'HU' 'AT' 'SK' 'CZ' 'TR' 'PR' 'DK' 'BO'\n",
      " 'PH' 'BE' 'ID' 'EG' 'AE' 'LU' 'MY' 'HN' 'JP' 'DZ' 'IQ' 'CN' 'NZ' 'CL'\n",
      " 'MD' 'MT']\n",
      "----------------------------\n",
      "\n",
      "COMPANY_SIZE\n",
      "['L' 'S' 'M']\n",
      "----------------------------\n",
      "\n"
     ]
    }
   ],
   "source": [
    "# revisión rápida de tipo de valores en cada dato\n",
    "for i in list(df.columns):\n",
    "    print(i.upper())\n",
    "    print(df[i].unique())\n",
    "    print('----------------------------\\n')"
   ]
  },
  {
   "cell_type": "code",
   "execution_count": 478,
   "id": "853822e8",
   "metadata": {},
   "outputs": [
    {
     "data": {
      "application/vnd.microsoft.datawrangler.viewer.v0+json": {
       "columns": [
        {
         "name": "index",
         "rawType": "int64",
         "type": "integer"
        },
        {
         "name": "work_year",
         "rawType": "int64",
         "type": "integer"
        },
        {
         "name": "experience_level",
         "rawType": "object",
         "type": "unknown"
        },
        {
         "name": "employment_type",
         "rawType": "object",
         "type": "unknown"
        },
        {
         "name": "job_title",
         "rawType": "object",
         "type": "unknown"
        },
        {
         "name": "salary",
         "rawType": "int64",
         "type": "integer"
        },
        {
         "name": "salary_currency",
         "rawType": "object",
         "type": "unknown"
        },
        {
         "name": "salary_in_usd",
         "rawType": "int64",
         "type": "integer"
        },
        {
         "name": "employee_residence",
         "rawType": "object",
         "type": "unknown"
        },
        {
         "name": "remote_ratio",
         "rawType": "int64",
         "type": "integer"
        },
        {
         "name": "company_location",
         "rawType": "object",
         "type": "unknown"
        },
        {
         "name": "company_size",
         "rawType": "object",
         "type": "unknown"
        }
       ],
       "ref": "1e47959d-1273-436f-adad-5f05e1a01e4e",
       "rows": [],
       "shape": {
        "columns": 11,
        "rows": 0
       }
      },
      "text/html": [
       "<div>\n",
       "<style scoped>\n",
       "    .dataframe tbody tr th:only-of-type {\n",
       "        vertical-align: middle;\n",
       "    }\n",
       "\n",
       "    .dataframe tbody tr th {\n",
       "        vertical-align: top;\n",
       "    }\n",
       "\n",
       "    .dataframe thead th {\n",
       "        text-align: right;\n",
       "    }\n",
       "</style>\n",
       "<table border=\"1\" class=\"dataframe\">\n",
       "  <thead>\n",
       "    <tr style=\"text-align: right;\">\n",
       "      <th></th>\n",
       "      <th>work_year</th>\n",
       "      <th>experience_level</th>\n",
       "      <th>employment_type</th>\n",
       "      <th>job_title</th>\n",
       "      <th>salary</th>\n",
       "      <th>salary_currency</th>\n",
       "      <th>salary_in_usd</th>\n",
       "      <th>employee_residence</th>\n",
       "      <th>remote_ratio</th>\n",
       "      <th>company_location</th>\n",
       "      <th>company_size</th>\n",
       "    </tr>\n",
       "  </thead>\n",
       "  <tbody>\n",
       "  </tbody>\n",
       "</table>\n",
       "</div>"
      ],
      "text/plain": [
       "Empty DataFrame\n",
       "Columns: [work_year, experience_level, employment_type, job_title, salary, salary_currency, salary_in_usd, employee_residence, remote_ratio, company_location, company_size]\n",
       "Index: []"
      ]
     },
     "execution_count": 478,
     "metadata": {},
     "output_type": "execute_result"
    }
   ],
   "source": [
    "nulos = df[df.isnull().any(axis=1)] # con esto se obtiene cualquier valor nulo en cualquiera de las columans\n",
    "nulos # no se obtienen valores nulos"
   ]
  },
  {
   "cell_type": "code",
   "execution_count": 479,
   "id": "b45365da",
   "metadata": {},
   "outputs": [
    {
     "name": "stdout",
     "output_type": "stream",
     "text": [
      "<class 'pandas.core.frame.DataFrame'>\n",
      "RangeIndex: 3755 entries, 0 to 3754\n",
      "Data columns (total 11 columns):\n",
      " #   Column              Non-Null Count  Dtype \n",
      "---  ------              --------------  ----- \n",
      " 0   work_year           3755 non-null   int64 \n",
      " 1   experience_level    3755 non-null   object\n",
      " 2   employment_type     3755 non-null   object\n",
      " 3   job_title           3755 non-null   object\n",
      " 4   salary              3755 non-null   int64 \n",
      " 5   salary_currency     3755 non-null   object\n",
      " 6   salary_in_usd       3755 non-null   int64 \n",
      " 7   employee_residence  3755 non-null   object\n",
      " 8   remote_ratio        3755 non-null   int64 \n",
      " 9   company_location    3755 non-null   object\n",
      " 10  company_size        3755 non-null   object\n",
      "dtypes: int64(4), object(7)\n",
      "memory usage: 322.8+ KB\n"
     ]
    }
   ],
   "source": [
    "df.info()"
   ]
  },
  {
   "cell_type": "markdown",
   "id": "ab802882",
   "metadata": {},
   "source": [
    "**Principales hallazgos**\n",
    "\n",
    "- work year, se debe trabajar en formato fecha o en str.\n",
    "- remote ratio, puede ser cambiado al formato : Online, Híbrido o presencial. ya que hace referencia al porcentaje de las horas a la semana.\n"
   ]
  },
  {
   "cell_type": "markdown",
   "id": "15970535",
   "metadata": {},
   "source": [
    "## Limpieza de datos"
   ]
  },
  {
   "cell_type": "code",
   "execution_count": 480,
   "id": "4150d35f",
   "metadata": {},
   "outputs": [
    {
     "data": {
      "application/vnd.microsoft.datawrangler.viewer.v0+json": {
       "columns": [
        {
         "name": "index",
         "rawType": "int64",
         "type": "integer"
        },
        {
         "name": "work_year",
         "rawType": "int64",
         "type": "integer"
        },
        {
         "name": "experience_level",
         "rawType": "object",
         "type": "string"
        },
        {
         "name": "employment_type",
         "rawType": "object",
         "type": "string"
        },
        {
         "name": "job_title",
         "rawType": "object",
         "type": "string"
        },
        {
         "name": "salary",
         "rawType": "int64",
         "type": "integer"
        },
        {
         "name": "salary_currency",
         "rawType": "object",
         "type": "string"
        },
        {
         "name": "salary_in_usd",
         "rawType": "int64",
         "type": "integer"
        },
        {
         "name": "employee_residence",
         "rawType": "object",
         "type": "string"
        },
        {
         "name": "remote_ratio",
         "rawType": "int64",
         "type": "integer"
        },
        {
         "name": "company_location",
         "rawType": "object",
         "type": "string"
        },
        {
         "name": "company_size",
         "rawType": "object",
         "type": "string"
        }
       ],
       "ref": "53cd3676-a32e-4398-a741-379e8cbcbbec",
       "rows": [
        [
         "0",
         "2023",
         "SE",
         "FT",
         "Principal Data Scientist",
         "80000",
         "EUR",
         "85847",
         "ES",
         "100",
         "ES",
         "L"
        ],
        [
         "1",
         "2023",
         "MI",
         "CT",
         "ML Engineer",
         "30000",
         "USD",
         "30000",
         "US",
         "100",
         "US",
         "S"
        ],
        [
         "2",
         "2023",
         "MI",
         "CT",
         "ML Engineer",
         "25500",
         "USD",
         "25500",
         "US",
         "100",
         "US",
         "S"
        ],
        [
         "3",
         "2023",
         "SE",
         "FT",
         "Data Scientist",
         "175000",
         "USD",
         "175000",
         "CA",
         "100",
         "CA",
         "M"
        ],
        [
         "4",
         "2023",
         "SE",
         "FT",
         "Data Scientist",
         "120000",
         "USD",
         "120000",
         "CA",
         "100",
         "CA",
         "M"
        ],
        [
         "5",
         "2023",
         "SE",
         "FT",
         "Applied Scientist",
         "222200",
         "USD",
         "222200",
         "US",
         "0",
         "US",
         "L"
        ],
        [
         "6",
         "2023",
         "SE",
         "FT",
         "Applied Scientist",
         "136000",
         "USD",
         "136000",
         "US",
         "0",
         "US",
         "L"
        ],
        [
         "7",
         "2023",
         "SE",
         "FT",
         "Data Scientist",
         "219000",
         "USD",
         "219000",
         "CA",
         "0",
         "CA",
         "M"
        ],
        [
         "8",
         "2023",
         "SE",
         "FT",
         "Data Scientist",
         "141000",
         "USD",
         "141000",
         "CA",
         "0",
         "CA",
         "M"
        ],
        [
         "9",
         "2023",
         "SE",
         "FT",
         "Data Scientist",
         "147100",
         "USD",
         "147100",
         "US",
         "0",
         "US",
         "M"
        ],
        [
         "10",
         "2023",
         "SE",
         "FT",
         "Data Scientist",
         "90700",
         "USD",
         "90700",
         "US",
         "0",
         "US",
         "M"
        ],
        [
         "11",
         "2023",
         "SE",
         "FT",
         "Data Analyst",
         "130000",
         "USD",
         "130000",
         "US",
         "100",
         "US",
         "M"
        ],
        [
         "12",
         "2023",
         "SE",
         "FT",
         "Data Analyst",
         "100000",
         "USD",
         "100000",
         "US",
         "100",
         "US",
         "M"
        ],
        [
         "13",
         "2023",
         "EN",
         "FT",
         "Applied Scientist",
         "213660",
         "USD",
         "213660",
         "US",
         "0",
         "US",
         "L"
        ],
        [
         "14",
         "2023",
         "EN",
         "FT",
         "Applied Scientist",
         "130760",
         "USD",
         "130760",
         "US",
         "0",
         "US",
         "L"
        ],
        [
         "15",
         "2023",
         "SE",
         "FT",
         "Data Modeler",
         "147100",
         "USD",
         "147100",
         "US",
         "0",
         "US",
         "M"
        ],
        [
         "16",
         "2023",
         "SE",
         "FT",
         "Data Modeler",
         "90700",
         "USD",
         "90700",
         "US",
         "0",
         "US",
         "M"
        ],
        [
         "17",
         "2023",
         "SE",
         "FT",
         "Data Scientist",
         "170000",
         "USD",
         "170000",
         "US",
         "0",
         "US",
         "M"
        ],
        [
         "18",
         "2023",
         "SE",
         "FT",
         "Data Scientist",
         "150000",
         "USD",
         "150000",
         "US",
         "0",
         "US",
         "M"
        ],
        [
         "19",
         "2023",
         "MI",
         "FT",
         "Data Analyst",
         "150000",
         "USD",
         "150000",
         "US",
         "100",
         "US",
         "M"
        ],
        [
         "20",
         "2023",
         "MI",
         "FT",
         "Data Analyst",
         "110000",
         "USD",
         "110000",
         "US",
         "100",
         "US",
         "M"
        ],
        [
         "21",
         "2023",
         "SE",
         "FT",
         "Research Engineer",
         "275000",
         "USD",
         "275000",
         "DE",
         "0",
         "DE",
         "M"
        ],
        [
         "22",
         "2023",
         "SE",
         "FT",
         "Research Engineer",
         "174000",
         "USD",
         "174000",
         "DE",
         "0",
         "DE",
         "M"
        ],
        [
         "23",
         "2023",
         "SE",
         "FT",
         "Analytics Engineer",
         "230000",
         "USD",
         "230000",
         "GB",
         "100",
         "GB",
         "M"
        ],
        [
         "24",
         "2023",
         "SE",
         "FT",
         "Analytics Engineer",
         "143200",
         "USD",
         "143200",
         "GB",
         "100",
         "GB",
         "M"
        ],
        [
         "25",
         "2023",
         "SE",
         "FT",
         "Business Intelligence Engineer",
         "225000",
         "USD",
         "225000",
         "US",
         "0",
         "US",
         "M"
        ],
        [
         "26",
         "2023",
         "SE",
         "FT",
         "Business Intelligence Engineer",
         "156400",
         "USD",
         "156400",
         "US",
         "0",
         "US",
         "M"
        ],
        [
         "27",
         "2023",
         "SE",
         "FT",
         "Machine Learning Engineer",
         "200000",
         "USD",
         "200000",
         "US",
         "0",
         "US",
         "M"
        ],
        [
         "28",
         "2023",
         "SE",
         "FT",
         "Machine Learning Engineer",
         "130000",
         "USD",
         "130000",
         "US",
         "0",
         "US",
         "M"
        ],
        [
         "29",
         "2023",
         "SE",
         "FT",
         "Data Strategist",
         "90000",
         "USD",
         "90000",
         "CA",
         "0",
         "CA",
         "M"
        ],
        [
         "30",
         "2023",
         "SE",
         "FT",
         "Data Strategist",
         "72000",
         "USD",
         "72000",
         "CA",
         "0",
         "CA",
         "M"
        ],
        [
         "31",
         "2023",
         "SE",
         "FT",
         "Data Engineer",
         "253200",
         "USD",
         "253200",
         "US",
         "0",
         "US",
         "M"
        ],
        [
         "32",
         "2023",
         "SE",
         "FT",
         "Data Engineer",
         "90700",
         "USD",
         "90700",
         "US",
         "0",
         "US",
         "M"
        ],
        [
         "33",
         "2023",
         "SE",
         "FT",
         "Computer Vision Engineer",
         "342810",
         "USD",
         "342810",
         "US",
         "0",
         "US",
         "M"
        ],
        [
         "34",
         "2023",
         "SE",
         "FT",
         "Computer Vision Engineer",
         "184590",
         "USD",
         "184590",
         "US",
         "0",
         "US",
         "M"
        ],
        [
         "35",
         "2023",
         "MI",
         "FT",
         "Data Engineer",
         "162500",
         "USD",
         "162500",
         "US",
         "0",
         "US",
         "M"
        ],
        [
         "36",
         "2023",
         "MI",
         "FT",
         "Data Engineer",
         "130000",
         "USD",
         "130000",
         "US",
         "0",
         "US",
         "M"
        ],
        [
         "37",
         "2023",
         "MI",
         "FT",
         "Data Analyst",
         "105380",
         "USD",
         "105380",
         "US",
         "0",
         "US",
         "M"
        ],
        [
         "38",
         "2023",
         "MI",
         "FT",
         "Data Analyst",
         "64500",
         "USD",
         "64500",
         "US",
         "0",
         "US",
         "M"
        ],
        [
         "39",
         "2023",
         "EN",
         "FT",
         "Data Quality Analyst",
         "100000",
         "USD",
         "100000",
         "NG",
         "100",
         "NG",
         "L"
        ],
        [
         "40",
         "2023",
         "EN",
         "FT",
         "Compliance Data Analyst",
         "30000",
         "USD",
         "30000",
         "NG",
         "100",
         "NG",
         "L"
        ],
        [
         "41",
         "2022",
         "MI",
         "FT",
         "Machine Learning Engineer",
         "1650000",
         "INR",
         "20984",
         "IN",
         "50",
         "IN",
         "L"
        ],
        [
         "42",
         "2023",
         "EN",
         "FT",
         "Applied Scientist",
         "204620",
         "USD",
         "204620",
         "US",
         "0",
         "US",
         "L"
        ],
        [
         "43",
         "2023",
         "EN",
         "FT",
         "Applied Scientist",
         "110680",
         "USD",
         "110680",
         "US",
         "0",
         "US",
         "L"
        ],
        [
         "44",
         "2023",
         "SE",
         "FT",
         "Data Engineer",
         "270703",
         "USD",
         "270703",
         "US",
         "0",
         "US",
         "M"
        ],
        [
         "45",
         "2023",
         "SE",
         "FT",
         "Data Engineer",
         "221484",
         "USD",
         "221484",
         "US",
         "0",
         "US",
         "M"
        ],
        [
         "46",
         "2023",
         "SE",
         "FT",
         "Data Scientist",
         "212750",
         "USD",
         "212750",
         "US",
         "100",
         "US",
         "M"
        ],
        [
         "47",
         "2023",
         "SE",
         "FT",
         "Data Scientist",
         "185000",
         "USD",
         "185000",
         "US",
         "100",
         "US",
         "M"
        ],
        [
         "48",
         "2023",
         "SE",
         "FT",
         "Data Scientist",
         "262000",
         "USD",
         "262000",
         "US",
         "100",
         "US",
         "M"
        ],
        [
         "49",
         "2023",
         "SE",
         "FT",
         "Data Scientist",
         "245000",
         "USD",
         "245000",
         "US",
         "100",
         "US",
         "M"
        ]
       ],
       "shape": {
        "columns": 11,
        "rows": 2584
       }
      },
      "text/html": [
       "<div>\n",
       "<style scoped>\n",
       "    .dataframe tbody tr th:only-of-type {\n",
       "        vertical-align: middle;\n",
       "    }\n",
       "\n",
       "    .dataframe tbody tr th {\n",
       "        vertical-align: top;\n",
       "    }\n",
       "\n",
       "    .dataframe thead th {\n",
       "        text-align: right;\n",
       "    }\n",
       "</style>\n",
       "<table border=\"1\" class=\"dataframe\">\n",
       "  <thead>\n",
       "    <tr style=\"text-align: right;\">\n",
       "      <th></th>\n",
       "      <th>work_year</th>\n",
       "      <th>experience_level</th>\n",
       "      <th>employment_type</th>\n",
       "      <th>job_title</th>\n",
       "      <th>salary</th>\n",
       "      <th>salary_currency</th>\n",
       "      <th>salary_in_usd</th>\n",
       "      <th>employee_residence</th>\n",
       "      <th>remote_ratio</th>\n",
       "      <th>company_location</th>\n",
       "      <th>company_size</th>\n",
       "    </tr>\n",
       "  </thead>\n",
       "  <tbody>\n",
       "    <tr>\n",
       "      <th>0</th>\n",
       "      <td>2023</td>\n",
       "      <td>SE</td>\n",
       "      <td>FT</td>\n",
       "      <td>Principal Data Scientist</td>\n",
       "      <td>80000</td>\n",
       "      <td>EUR</td>\n",
       "      <td>85847</td>\n",
       "      <td>ES</td>\n",
       "      <td>100</td>\n",
       "      <td>ES</td>\n",
       "      <td>L</td>\n",
       "    </tr>\n",
       "    <tr>\n",
       "      <th>1</th>\n",
       "      <td>2023</td>\n",
       "      <td>MI</td>\n",
       "      <td>CT</td>\n",
       "      <td>ML Engineer</td>\n",
       "      <td>30000</td>\n",
       "      <td>USD</td>\n",
       "      <td>30000</td>\n",
       "      <td>US</td>\n",
       "      <td>100</td>\n",
       "      <td>US</td>\n",
       "      <td>S</td>\n",
       "    </tr>\n",
       "    <tr>\n",
       "      <th>2</th>\n",
       "      <td>2023</td>\n",
       "      <td>MI</td>\n",
       "      <td>CT</td>\n",
       "      <td>ML Engineer</td>\n",
       "      <td>25500</td>\n",
       "      <td>USD</td>\n",
       "      <td>25500</td>\n",
       "      <td>US</td>\n",
       "      <td>100</td>\n",
       "      <td>US</td>\n",
       "      <td>S</td>\n",
       "    </tr>\n",
       "    <tr>\n",
       "      <th>3</th>\n",
       "      <td>2023</td>\n",
       "      <td>SE</td>\n",
       "      <td>FT</td>\n",
       "      <td>Data Scientist</td>\n",
       "      <td>175000</td>\n",
       "      <td>USD</td>\n",
       "      <td>175000</td>\n",
       "      <td>CA</td>\n",
       "      <td>100</td>\n",
       "      <td>CA</td>\n",
       "      <td>M</td>\n",
       "    </tr>\n",
       "    <tr>\n",
       "      <th>4</th>\n",
       "      <td>2023</td>\n",
       "      <td>SE</td>\n",
       "      <td>FT</td>\n",
       "      <td>Data Scientist</td>\n",
       "      <td>120000</td>\n",
       "      <td>USD</td>\n",
       "      <td>120000</td>\n",
       "      <td>CA</td>\n",
       "      <td>100</td>\n",
       "      <td>CA</td>\n",
       "      <td>M</td>\n",
       "    </tr>\n",
       "    <tr>\n",
       "      <th>...</th>\n",
       "      <td>...</td>\n",
       "      <td>...</td>\n",
       "      <td>...</td>\n",
       "      <td>...</td>\n",
       "      <td>...</td>\n",
       "      <td>...</td>\n",
       "      <td>...</td>\n",
       "      <td>...</td>\n",
       "      <td>...</td>\n",
       "      <td>...</td>\n",
       "      <td>...</td>\n",
       "    </tr>\n",
       "    <tr>\n",
       "      <th>3750</th>\n",
       "      <td>2020</td>\n",
       "      <td>SE</td>\n",
       "      <td>FT</td>\n",
       "      <td>Data Scientist</td>\n",
       "      <td>412000</td>\n",
       "      <td>USD</td>\n",
       "      <td>412000</td>\n",
       "      <td>US</td>\n",
       "      <td>100</td>\n",
       "      <td>US</td>\n",
       "      <td>L</td>\n",
       "    </tr>\n",
       "    <tr>\n",
       "      <th>3751</th>\n",
       "      <td>2021</td>\n",
       "      <td>MI</td>\n",
       "      <td>FT</td>\n",
       "      <td>Principal Data Scientist</td>\n",
       "      <td>151000</td>\n",
       "      <td>USD</td>\n",
       "      <td>151000</td>\n",
       "      <td>US</td>\n",
       "      <td>100</td>\n",
       "      <td>US</td>\n",
       "      <td>L</td>\n",
       "    </tr>\n",
       "    <tr>\n",
       "      <th>3752</th>\n",
       "      <td>2020</td>\n",
       "      <td>EN</td>\n",
       "      <td>FT</td>\n",
       "      <td>Data Scientist</td>\n",
       "      <td>105000</td>\n",
       "      <td>USD</td>\n",
       "      <td>105000</td>\n",
       "      <td>US</td>\n",
       "      <td>100</td>\n",
       "      <td>US</td>\n",
       "      <td>S</td>\n",
       "    </tr>\n",
       "    <tr>\n",
       "      <th>3753</th>\n",
       "      <td>2020</td>\n",
       "      <td>EN</td>\n",
       "      <td>CT</td>\n",
       "      <td>Business Data Analyst</td>\n",
       "      <td>100000</td>\n",
       "      <td>USD</td>\n",
       "      <td>100000</td>\n",
       "      <td>US</td>\n",
       "      <td>100</td>\n",
       "      <td>US</td>\n",
       "      <td>L</td>\n",
       "    </tr>\n",
       "    <tr>\n",
       "      <th>3754</th>\n",
       "      <td>2021</td>\n",
       "      <td>SE</td>\n",
       "      <td>FT</td>\n",
       "      <td>Data Science Manager</td>\n",
       "      <td>7000000</td>\n",
       "      <td>INR</td>\n",
       "      <td>94665</td>\n",
       "      <td>IN</td>\n",
       "      <td>50</td>\n",
       "      <td>IN</td>\n",
       "      <td>L</td>\n",
       "    </tr>\n",
       "  </tbody>\n",
       "</table>\n",
       "<p>2584 rows × 11 columns</p>\n",
       "</div>"
      ],
      "text/plain": [
       "      work_year experience_level employment_type                 job_title  \\\n",
       "0          2023               SE              FT  Principal Data Scientist   \n",
       "1          2023               MI              CT               ML Engineer   \n",
       "2          2023               MI              CT               ML Engineer   \n",
       "3          2023               SE              FT            Data Scientist   \n",
       "4          2023               SE              FT            Data Scientist   \n",
       "...         ...              ...             ...                       ...   \n",
       "3750       2020               SE              FT            Data Scientist   \n",
       "3751       2021               MI              FT  Principal Data Scientist   \n",
       "3752       2020               EN              FT            Data Scientist   \n",
       "3753       2020               EN              CT     Business Data Analyst   \n",
       "3754       2021               SE              FT      Data Science Manager   \n",
       "\n",
       "       salary salary_currency  salary_in_usd employee_residence  remote_ratio  \\\n",
       "0       80000             EUR          85847                 ES           100   \n",
       "1       30000             USD          30000                 US           100   \n",
       "2       25500             USD          25500                 US           100   \n",
       "3      175000             USD         175000                 CA           100   \n",
       "4      120000             USD         120000                 CA           100   \n",
       "...       ...             ...            ...                ...           ...   \n",
       "3750   412000             USD         412000                 US           100   \n",
       "3751   151000             USD         151000                 US           100   \n",
       "3752   105000             USD         105000                 US           100   \n",
       "3753   100000             USD         100000                 US           100   \n",
       "3754  7000000             INR          94665                 IN            50   \n",
       "\n",
       "     company_location company_size  \n",
       "0                  ES            L  \n",
       "1                  US            S  \n",
       "2                  US            S  \n",
       "3                  CA            M  \n",
       "4                  CA            M  \n",
       "...               ...          ...  \n",
       "3750               US            L  \n",
       "3751               US            L  \n",
       "3752               US            S  \n",
       "3753               US            L  \n",
       "3754               IN            L  \n",
       "\n",
       "[2584 rows x 11 columns]"
      ]
     },
     "execution_count": 480,
     "metadata": {},
     "output_type": "execute_result"
    }
   ],
   "source": [
    "# Paso 1, Eliminación de registros duplicados.\n",
    "    # Siguiendo las instrucciones del examen, \"Detección y eliminación de valores duplicados: Asegúrate de que cada registro en el dataset sea único.\"\n",
    "\n",
    "df[df.duplicated() == True] # Se encontraron 1171 rows duplicados, quedando en un total de 2584 registros.\n",
    "df = df.drop_duplicates()\n",
    "df\n"
   ]
  },
  {
   "cell_type": "code",
   "execution_count": 481,
   "id": "16d8a06f",
   "metadata": {},
   "outputs": [
    {
     "data": {
      "application/vnd.microsoft.datawrangler.viewer.v0+json": {
       "columns": [
        {
         "name": "index",
         "rawType": "int64",
         "type": "integer"
        },
        {
         "name": "work_year",
         "rawType": "object",
         "type": "unknown"
        },
        {
         "name": "experience_level",
         "rawType": "object",
         "type": "unknown"
        },
        {
         "name": "employment_type",
         "rawType": "object",
         "type": "unknown"
        },
        {
         "name": "job_title",
         "rawType": "object",
         "type": "unknown"
        },
        {
         "name": "salary",
         "rawType": "int64",
         "type": "integer"
        },
        {
         "name": "salary_currency",
         "rawType": "object",
         "type": "unknown"
        },
        {
         "name": "salary_in_usd",
         "rawType": "int64",
         "type": "integer"
        },
        {
         "name": "employee_residence",
         "rawType": "object",
         "type": "unknown"
        },
        {
         "name": "remote_ratio",
         "rawType": "object",
         "type": "unknown"
        },
        {
         "name": "company_location",
         "rawType": "object",
         "type": "unknown"
        },
        {
         "name": "company_size",
         "rawType": "object",
         "type": "unknown"
        }
       ],
       "ref": "33d79781-a08e-4097-aa8f-974a79851c25",
       "rows": [],
       "shape": {
        "columns": 11,
        "rows": 0
       }
      },
      "text/html": [
       "<div>\n",
       "<style scoped>\n",
       "    .dataframe tbody tr th:only-of-type {\n",
       "        vertical-align: middle;\n",
       "    }\n",
       "\n",
       "    .dataframe tbody tr th {\n",
       "        vertical-align: top;\n",
       "    }\n",
       "\n",
       "    .dataframe thead th {\n",
       "        text-align: right;\n",
       "    }\n",
       "</style>\n",
       "<table border=\"1\" class=\"dataframe\">\n",
       "  <thead>\n",
       "    <tr style=\"text-align: right;\">\n",
       "      <th></th>\n",
       "      <th>work_year</th>\n",
       "      <th>experience_level</th>\n",
       "      <th>employment_type</th>\n",
       "      <th>job_title</th>\n",
       "      <th>salary</th>\n",
       "      <th>salary_currency</th>\n",
       "      <th>salary_in_usd</th>\n",
       "      <th>employee_residence</th>\n",
       "      <th>remote_ratio</th>\n",
       "      <th>company_location</th>\n",
       "      <th>company_size</th>\n",
       "    </tr>\n",
       "  </thead>\n",
       "  <tbody>\n",
       "  </tbody>\n",
       "</table>\n",
       "</div>"
      ],
      "text/plain": [
       "Empty DataFrame\n",
       "Columns: [work_year, experience_level, employment_type, job_title, salary, salary_currency, salary_in_usd, employee_residence, remote_ratio, company_location, company_size]\n",
       "Index: []"
      ]
     },
     "execution_count": 481,
     "metadata": {},
     "output_type": "execute_result"
    }
   ],
   "source": [
    "# Paso 2, cambio de tipos de datos\n",
    "df['work_year'] = df['work_year'].astype(str)\n",
    "\n",
    "def tipopresencia(x)->str:\n",
    "    if x == 100:\n",
    "        tipo = 'On-line'\n",
    "    elif x == 50:\n",
    "        tipo = 'Hibrido'\n",
    "    elif x == 0:\n",
    "        tipo = 'Presencial'\n",
    "    else:\n",
    "        tipo = np.nan\n",
    "    return tipo\n",
    "\n",
    "df['remote_ratio'] = df['remote_ratio'].apply(tipopresencia)\n",
    "df[df['remote_ratio'].isna()]\n"
   ]
  },
  {
   "cell_type": "code",
   "execution_count": 482,
   "id": "59c07f76",
   "metadata": {},
   "outputs": [
    {
     "name": "stdout",
     "output_type": "stream",
     "text": [
      "<class 'pandas.core.frame.DataFrame'>\n",
      "Index: 2584 entries, 0 to 3754\n",
      "Data columns (total 11 columns):\n",
      " #   Column              Non-Null Count  Dtype \n",
      "---  ------              --------------  ----- \n",
      " 0   work_year           2584 non-null   object\n",
      " 1   experience_level    2584 non-null   object\n",
      " 2   employment_type     2584 non-null   object\n",
      " 3   job_title           2584 non-null   object\n",
      " 4   salary              2584 non-null   int64 \n",
      " 5   salary_currency     2584 non-null   object\n",
      " 6   salary_in_usd       2584 non-null   int64 \n",
      " 7   employee_residence  2584 non-null   object\n",
      " 8   remote_ratio        2584 non-null   object\n",
      " 9   company_location    2584 non-null   object\n",
      " 10  company_size        2584 non-null   object\n",
      "dtypes: int64(2), object(9)\n",
      "memory usage: 242.2+ KB\n"
     ]
    }
   ],
   "source": [
    "df.info()"
   ]
  },
  {
   "cell_type": "markdown",
   "id": "fc920b70",
   "metadata": {},
   "source": [
    "## Visualización exploratoria de los datos"
   ]
  },
  {
   "cell_type": "code",
   "execution_count": 483,
   "id": "6a6aaf75",
   "metadata": {},
   "outputs": [
    {
     "data": {
      "image/png": "[encoded data removed]",
      "text/plain": [
       "<Figure size 640x480 with 1 Axes>"
      ]
     },
     "metadata": {},
     "output_type": "display_data"
    }
   ],
   "source": [
    "# Univariada 1: proporcipón de personas en sus tipos de contratos\n",
    "data = df['remote_ratio'].value_counts()\n",
    "\n",
    "lab = list(data.index)\n",
    "plt.pie(data, labels=lab, autopct= '%1.1f%%')\n",
    "plt.title('Proporción de personas respecto al formato de trabajo')\n",
    "plt.legend()\n",
    "plt.show()\n"
   ]
  },
  {
   "cell_type": "markdown",
   "id": "6dcbed63",
   "metadata": {},
   "source": [
    "La mayoría de las personas o registros que se encuentran en el data set, trabajan en formato On-line, representando un 46.9% del total. Mientras que un 45.9% trabaja de forma presencial. finalment, tan solo un 7.2% del total trabaja den formato hibrido."
   ]
  },
  {
   "cell_type": "code",
   "execution_count": 484,
   "id": "b324acdd",
   "metadata": {},
   "outputs": [
    {
     "data": {
      "image/png": "[encoded data removed]",
      "text/plain": [
       "<Figure size 640x480 with 1 Axes>"
      ]
     },
     "metadata": {},
     "output_type": "display_data"
    }
   ],
   "source": [
    "# Univariada 2: Proporción de personas respecto a la experiencia en el campo\n",
    "data = df['experience_level'].value_counts()\n",
    "lab = list(data.index)\n",
    "\n",
    "plt.pie(data, labels=lab, autopct= '%1.1f%%')\n",
    "plt.title('Proporción de personas respecto a la experiencia en el campo')\n",
    "plt.legend()\n",
    "plt.show()"
   ]
  },
  {
   "cell_type": "markdown",
   "id": "6196100e",
   "metadata": {},
   "source": [
    "En el Gráfico anterior se aprecia que la mayoria de las personas registradas en el set de datos corresponden a la categoría SE (Senior), segido de la categoria MI, EN, EX respectivamente."
   ]
  },
  {
   "cell_type": "code",
   "execution_count": 485,
   "id": "99a53a16",
   "metadata": {},
   "outputs": [
    {
     "data": {
      "image/png": "[encoded data removed]",
      "text/plain": [
       "<Figure size 640x480 with 1 Axes>"
      ]
     },
     "metadata": {},
     "output_type": "display_data"
    }
   ],
   "source": [
    "# Univariada 3: Proporción de tamaños de empresa en el set de datos\n",
    "data = df['company_size'].value_counts()\n",
    "lab = list(data.index)\n",
    "\n",
    "plt.pie(data, labels=lab, autopct= '%1.1f%%')\n",
    "plt.title('Proporción de tamaños de empresa en el set de datos')\n",
    "plt.legend()\n",
    "plt.show()"
   ]
  },
  {
   "cell_type": "markdown",
   "id": "916c4ccb",
   "metadata": {},
   "source": [
    "En el gráfico anterior se evidencia que la gran mayoria de las empresas del data set corresponden a medianas (Asumiendo claro que 'M' significa mediana) representado por un 78.5% del total de registros."
   ]
  },
  {
   "cell_type": "code",
   "execution_count": 486,
   "id": "dc772145",
   "metadata": {},
   "outputs": [
    {
     "data": {
      "image/png": "[encoded data removed]",
      "text/plain": [
       "<Figure size 640x480 with 1 Axes>"
      ]
     },
     "metadata": {},
     "output_type": "display_data"
    }
   ],
   "source": [
    "# Multivariado 1: Boxplot para los sueldos, agru\n",
    "\n",
    "data = df.loc[:, ['work_year', 'salary', 'salary_currency', 'salary_in_usd']]\n",
    "y20 = data[data['work_year'] == '2020']\n",
    "y21 = data[data['work_year'] == '2021']\n",
    "y22 = data[data['work_year'] == '2022']\n",
    "y23 = data[data['work_year'] == '2023']\n",
    "\n",
    "plt.boxplot([y20['salary_in_usd'], #boxplot 2020\n",
    "             y21['salary_in_usd'], #boxplot 2021\n",
    "             y22['salary_in_usd'], #boxplot 2022\n",
    "             y23['salary_in_usd']],#boxplot 2023\n",
    "             labels= ['2020', '2021', '2022', '2023'])\n",
    "plt.title('Distribuión de sueldos según años')\n",
    "plt.xlabel('Años')\n",
    "plt.ylabel('Salario promedio (USD)')\n",
    "plt.show()\n"
   ]
  },
  {
   "cell_type": "markdown",
   "id": "743bdb41",
   "metadata": {},
   "source": [
    "Gracias al gráfico anterior, se puede apreciar como ha evolucionado el sueldo independiente del cargo, tamaño de la empresa o experiencia de las personas o registros del data set. se ve un clara tendencia del aumento del los sueldos debido a la alta necesidad de roles en el mundo de los datos.\n",
    "\n",
    "Al mismo tiempo, se ve una gran cantidad de outliers, esto debido a que son casos en los que los ingresos son extremadamente altos. Reforzando la tesis de que hay una necesidad de talento en el mercado de data science y las empresas estan dispuestas a pagar por ese conocimiento.\n",
    "\n",
    "En este caso no se eliminan los outliers debido a que sirven para demostrar como se comportan los datos."
   ]
  },
  {
   "cell_type": "code",
   "execution_count": 487,
   "id": "0fda1112",
   "metadata": {},
   "outputs": [
    {
     "data": {
      "image/png": "[encoded data removed]",
      "text/plain": [
       "<Figure size 640x480 with 1 Axes>"
      ]
     },
     "metadata": {},
     "output_type": "display_data"
    }
   ],
   "source": [
    "# Multivariado 2: Evolución de sueldos a través de los años explicado por el tamaño de empresa.\n",
    "data = df.groupby(['work_year', 'company_size']).agg({'salary_in_usd':['sum']}).unstack() # saco la data que quiero\n",
    "data.plot(kind='bar', stacked=True) # lo ploteo directamente del dataframe\n",
    "\n",
    "# lo configuro\n",
    "plt.xlabel('Año')\n",
    "plt.ylabel('Salario acumulado en USD (Millones)')\n",
    "plt.title('Salarios acumulados por año y tamaño de empresa')\n",
    "plt.legend(title='Tamaño de empresa')\n",
    "plt.xticks(rotation=0)\n",
    "plt.show()"
   ]
  },
  {
   "cell_type": "markdown",
   "id": "b325eeb7",
   "metadata": {},
   "source": [
    "Del gráfico anteior, se puede apreciar que el aumento en los sueldos se originó principalmente en las empresas medianas, esto puede ser explicado por medio de estrategias empresariales para mantener su competitividad en el mercado, y para lograrlo, se traduce en inversión de talento para cumplir con este objetivo. Muy ligado al gráfico anterior 'Distribución de sueldos segun años'."
   ]
  },
  {
   "cell_type": "code",
   "execution_count": 488,
   "id": "6a976e0e",
   "metadata": {},
   "outputs": [
    {
     "data": {
      "application/vnd.microsoft.datawrangler.viewer.v0+json": {
       "columns": [
        {
         "name": "index",
         "rawType": "object",
         "type": "string"
        },
        {
         "name": "salary",
         "rawType": "float64",
         "type": "float"
        },
        {
         "name": "salary_in_usd",
         "rawType": "float64",
         "type": "float"
        }
       ],
       "ref": "c35e8dd0-c6d1-46e3-9b89-14925dcef420",
       "rows": [
        [
         "count",
         "2584.0",
         "2584.0"
        ],
        [
         "mean",
         "210365.2964396285",
         "133409.28018575851"
        ],
        [
         "std",
         "808037.5356087949",
         "67136.83732925021"
        ],
        [
         "min",
         "6000.0",
         "5132.0"
        ],
        [
         "25%",
         "90000.0",
         "84975.0"
        ],
        [
         "50%",
         "134630.0",
         "130000.0"
        ],
        [
         "75%",
         "182562.5",
         "175000.0"
        ],
        [
         "max",
         "30400000.0",
         "450000.0"
        ]
       ],
       "shape": {
        "columns": 2,
        "rows": 8
       }
      },
      "text/html": [
       "<div>\n",
       "<style scoped>\n",
       "    .dataframe tbody tr th:only-of-type {\n",
       "        vertical-align: middle;\n",
       "    }\n",
       "\n",
       "    .dataframe tbody tr th {\n",
       "        vertical-align: top;\n",
       "    }\n",
       "\n",
       "    .dataframe thead th {\n",
       "        text-align: right;\n",
       "    }\n",
       "</style>\n",
       "<table border=\"1\" class=\"dataframe\">\n",
       "  <thead>\n",
       "    <tr style=\"text-align: right;\">\n",
       "      <th></th>\n",
       "      <th>salary</th>\n",
       "      <th>salary_in_usd</th>\n",
       "    </tr>\n",
       "  </thead>\n",
       "  <tbody>\n",
       "    <tr>\n",
       "      <th>count</th>\n",
       "      <td>2.584000e+03</td>\n",
       "      <td>2584.000000</td>\n",
       "    </tr>\n",
       "    <tr>\n",
       "      <th>mean</th>\n",
       "      <td>2.103653e+05</td>\n",
       "      <td>133409.280186</td>\n",
       "    </tr>\n",
       "    <tr>\n",
       "      <th>std</th>\n",
       "      <td>8.080375e+05</td>\n",
       "      <td>67136.837329</td>\n",
       "    </tr>\n",
       "    <tr>\n",
       "      <th>min</th>\n",
       "      <td>6.000000e+03</td>\n",
       "      <td>5132.000000</td>\n",
       "    </tr>\n",
       "    <tr>\n",
       "      <th>25%</th>\n",
       "      <td>9.000000e+04</td>\n",
       "      <td>84975.000000</td>\n",
       "    </tr>\n",
       "    <tr>\n",
       "      <th>50%</th>\n",
       "      <td>1.346300e+05</td>\n",
       "      <td>130000.000000</td>\n",
       "    </tr>\n",
       "    <tr>\n",
       "      <th>75%</th>\n",
       "      <td>1.825625e+05</td>\n",
       "      <td>175000.000000</td>\n",
       "    </tr>\n",
       "    <tr>\n",
       "      <th>max</th>\n",
       "      <td>3.040000e+07</td>\n",
       "      <td>450000.000000</td>\n",
       "    </tr>\n",
       "  </tbody>\n",
       "</table>\n",
       "</div>"
      ],
      "text/plain": [
       "             salary  salary_in_usd\n",
       "count  2.584000e+03    2584.000000\n",
       "mean   2.103653e+05  133409.280186\n",
       "std    8.080375e+05   67136.837329\n",
       "min    6.000000e+03    5132.000000\n",
       "25%    9.000000e+04   84975.000000\n",
       "50%    1.346300e+05  130000.000000\n",
       "75%    1.825625e+05  175000.000000\n",
       "max    3.040000e+07  450000.000000"
      ]
     },
     "execution_count": 488,
     "metadata": {},
     "output_type": "execute_result"
    }
   ],
   "source": [
    "# Resumen descriptivo de las variables numericas del dataset\n",
    "df.describe()\n",
    "\n",
    "# Ambas datos corresponden a variables de sueldos, pero la que explica de manera mpas estandarizada es 'salary_in_usd' debido a que transforma\n",
    "#   las diferentes divisas a usd. permitiendo la comparación entre distintos datos."
   ]
  },
  {
   "cell_type": "markdown",
   "id": "6ec88c94",
   "metadata": {},
   "source": [
    "## Conclusión Final"
   ]
  },
  {
   "cell_type": "markdown",
   "id": "3d2082fd",
   "metadata": {},
   "source": [
    "Tras todo el análisis anterior realizado, se obtienen los siguientes puntos claves:\n",
    "\n",
    "- Crecimiento del trabajo remoto e híbrido:\n",
    "La alta proporción de trabajo online y presencial sugiere que el modelo híbrido aún tiene espacio para crecer.Las empresas podrían invertir más en infraestructura y políticas flexibles que permitan esta forma de trabajo, adaptándose a las nuevas demandas laborales.\n",
    "\n",
    "- Demanda de profesionales senior:\n",
    "La predominancia de perfiles Senior indica que la experiencia sigue siendo muy valorada. Para el futuro, será clave fomentar la capacitación continua y el desarrollo profesional para asegurar un flujo constante de talento preparado.\n",
    "\n",
    "- Importancia de las empresas medianas:\n",
    "Dado que las medianas empresas representan la mayoría y están impulsando incrementos salariales, ellas serán actores estratégicos en el mercado. Es importante entender sus necesidades y retos para apoyar su crecimiento y competitividad.\n",
    "\n",
    "- Tendencia al aumento salarial:\n",
    "El crecimiento salarial refleja la valorización de los roles relacionados con datos. Se espera que esta tendencia continúe, por lo que las empresas deberán planificar sus presupuestos y estrategias de retención de talento para no perder competitividad.\n",
    "\n",
    "- Atención a la heterogeneidad del mercado:\n",
    "La presencia de outliers salariales evidencia desigualdad y oportunidades especiales. En el futuro, podría ser necesario diseñar políticas que balanceen la equidad salarial con la atracción de talento clave.\n"
   ]
  }
 ],
 "metadata": {
  "kernelspec": {
   "display_name": "USS",
   "language": "python",
   "name": "python3"
  },
  "language_info": {
   "codemirror_mode": {
    "name": "ipython",
    "version": 3
   },
   "file_extension": ".py",
   "mimetype": "text/x-python",
   "name": "python",
   "nbconvert_exporter": "python",
   "pygments_lexer": "ipython3",
   "version": "3.11.7"
  }
 },
 "nbformat": 4,
 "nbformat_minor": 5
}
